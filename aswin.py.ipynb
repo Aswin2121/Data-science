{
 "cells": [
  {
   "cell_type": "code",
   "execution_count": 1,
   "id": "b81b5c41",
   "metadata": {},
   "outputs": [
    {
     "name": "stdout",
     "output_type": "stream",
     "text": [
      "Demo of basic data type: Numbers\n",
      "x= 3\n",
      "y= 2.5\n",
      "Datatype of variable x: <class 'int'>\n",
      "Datatype of variable y: <class 'float'>\n",
      "Addition 5.5\n",
      "Subtracion 0.5\n",
      "Multiply 6\n",
      "Exponention 9\n"
     ]
    }
   ],
   "source": [
    "print(\"Demo of basic data type: Numbers\")\n",
    "x=3\n",
    "y=2.5\n",
    "print(\"x=\",x)\n",
    "print(\"y=\",y)\n",
    "print(\"Datatype of variable x:\",type(x))\n",
    "print(\"Datatype of variable y:\",type(y))\n",
    "print(\"Addition\",x+y)\n",
    "print(\"Subtracion\",x-y)\n",
    "print(\"Multiply\",x*2)\n",
    "print(\"Exponention\",x**2)"
   ]
  },
  {
   "cell_type": "code",
   "execution_count": 2,
   "id": "44684735",
   "metadata": {},
   "outputs": [
    {
     "name": "stdout",
     "output_type": "stream",
     "text": [
      "Demo of basic data type: Boolean\n",
      "t= True\n",
      "f= False\n",
      "Datatype of variable t: <class 'bool'>\n",
      "Datatype of variable f: <class 'bool'>\n",
      "Logical AND False\n",
      "Logical OR True\n",
      "Logical NOT False\n",
      "Logical XOR True\n"
     ]
    }
   ],
   "source": [
    "print(\"Demo of basic data type: Boolean\")\n",
    "t=True\n",
    "f=False\n",
    "print(\"t=\",t)\n",
    "print(\"f=\",f)\n",
    "print(\"Datatype of variable t:\",type(t))\n",
    "print(\"Datatype of variable f:\",type(f))\n",
    "print(\"Logical AND\",t and f)\n",
    "print(\"Logical OR\",t or f)\n",
    "print(\"Logical NOT\",not t)\n",
    "print(\"Logical XOR\",t != f)"
   ]
  },
  {
   "cell_type": "code",
   "execution_count": 3,
   "id": "6f979e7b",
   "metadata": {},
   "outputs": [
    {
     "name": "stdout",
     "output_type": "stream",
     "text": [
      "Demo of basic data type: String\n",
      "String1 hello\n",
      "String2 world\n",
      "String concatenation hello world\n",
      "Capitalization Hello world\n",
      "Convert to uppercase HELLO\n",
      "Right justfy a string   hello\n",
      "String at center                                 hello                                 \n",
      "After replacin l with ell he(ell)(ell)o\n",
      "String after striping leading and trailing white spaces: world\n"
     ]
    }
   ],
   "source": [
    "print(\"Demo of basic data type: String\")\n",
    "s=\"hello\"\n",
    "t=\"world\"\n",
    "print(\"String1\",s)\n",
    "print(\"String2\",t)\n",
    "d=s+\" \"+t\n",
    "print(\"String concatenation\",d)\n",
    "print(\"Capitalization\",d.capitalize())\n",
    "print(\"Convert to uppercase\",s.upper())\n",
    "print(\"Right justfy a string\",s.rjust(7))\n",
    "print(\"String at center\",s.center(70))\n",
    "print(\"After replacin l with ell\",s.replace('l','(ell)'))\n",
    "print(\"String after striping leading and trailing white spaces:\",'world'.strip())"
   ]
  },
  {
   "cell_type": "code",
   "execution_count": 4,
   "id": "82a90d06",
   "metadata": {},
   "outputs": [
    {
     "name": "stdout",
     "output_type": "stream",
     "text": [
      "Containers:list\n",
      "list'nums'contains: [0, 1, 2, 3, 4]\n",
      "elements of diff types [0, 1, 2, 3, 'abc']\n",
      "'nums' after inserting [0, 1, 2, 3, 'abc', 'xyz']\n",
      "Sublists:\n",
      "A slice from index 2 to 4: [2, 3]\n",
      "A slice from index 2 to end: [2, 3, 'abc', 'xyz']\n",
      "A slice from start to index 2: [0, 1]\n",
      "A slice of the whole list: [0, 1, 2, 3, 'abc', 'xyz']\n",
      "After assigning new value to the list [0, 1, 2, 3, 8, 9]\n",
      "1:0\n",
      "2:1\n",
      "3:2\n",
      "4:3\n",
      "5:8\n",
      "6:9\n",
      "List of squares of even numbers from 'nums' [0, 4, 64]\n"
     ]
    }
   ],
   "source": [
    "print(\"Containers:list\")\n",
    "nums=list(range(5))\n",
    "print(\"list'nums'contains:\",nums)\n",
    "nums[4]=\"abc\"\n",
    "print(\"elements of diff types\",nums)\n",
    "nums.append(\"xyz\")\n",
    "print(\"'nums' after inserting\",nums)\n",
    "print(\"Sublists:\")\n",
    "print(\"A slice from index 2 to 4:\",nums[2:4])\n",
    "print(\"A slice from index 2 to end:\",nums[2:])\n",
    "print(\"A slice from start to index 2:\",nums[:2])\n",
    "print(\"A slice of the whole list:\",nums[:])\n",
    "nums[4:]=[8,9]\n",
    "print(\"After assigning new value to the list\",nums)\n",
    "for idx,i in enumerate(nums):\n",
    "    print('%d:%s'%(idx+1,i))\n",
    "even_squares=[x**2 for x in nums if x%2 == 0]\n",
    "print(\"List of squares of even numbers from 'nums'\",even_squares)"
   ]
  },
  {
   "cell_type": "code",
   "execution_count": 5,
   "id": "20129b39",
   "metadata": {},
   "outputs": [
    {
     "name": "stdout",
     "output_type": "stream",
     "text": [
      "Containers:Dictionaries\n",
      "Dictionary: {'cat': 'cute', 'dog': 'furry'}\n",
      "Is the dictionary has 'cat'? True\n",
      "After adding a new entry {'cat': 'cute', 'dog': 'furry', 'fish': 'wet'}\n",
      "get an element monkey N/A\n",
      "get an element fish wet\n",
      "After deleting the neewly added entry: {'cat': 'cute', 'dog': 'furry'}\n",
      "Demo of dictionary compression\n",
      "Squares of integers of range 10\n",
      "0 : 0\n",
      "1 : 1\n",
      "2 : 4\n",
      "3 : 9\n",
      "4 : 16\n",
      "5 : 25\n",
      "6 : 36\n",
      "7 : 49\n",
      "8 : 64\n",
      "9 : 81\n"
     ]
    }
   ],
   "source": [
    "print(\"Containers:Dictionaries\")\n",
    "d=dict()\n",
    "d={'cat':'cute','dog':'furry'}\n",
    "print(\"Dictionary:\",d)\n",
    "print(\"Is the dictionary has 'cat'?\",'cat' in d)\n",
    "d['fish']='wet'\n",
    "print(\"After adding a new entry\",d)\n",
    "print(\"get an element monkey\",d.get('monkey','N/A'))\n",
    "print(\"get an element fish\",d.get('fish','N/A'))\n",
    "del d['fish']\n",
    "print(\"After deleting the neewly added entry:\",d)\n",
    "print(\"Demo of dictionary compression\")\n",
    "squares={x:x*x for x in range(10)}\n",
    "print(\"Squares of integers of range 10\")\n",
    "for k,v in squares.items():\n",
    "    print(k,\":\",v)"
   ]
  },
  {
   "cell_type": "code",
   "execution_count": 6,
   "id": "1eb9a1fe",
   "metadata": {},
   "outputs": [
    {
     "name": "stdout",
     "output_type": "stream",
     "text": [
      "Containers:sets\n",
      "Set 'num1': {120, 100, 110}\n",
      "num1 after inserting 90:  {120, 90, 100, 110}\n",
      "num1 after inserting multiple numbers {100, 70, 110, 50, 120, 90, 60}\n",
      "num1 after removing number 60 {100, 70, 110, 50, 120, 90}\n",
      "Set comprehension and set operations:\n",
      "n1= {0, 1, 2, 3, 4, 5, 6, 7, 8, 9}\n",
      "n2= {1, 3, 5, 7, 9}\n",
      "n1 union n2 {0, 1, 2, 3, 4, 5, 6, 7, 8, 9}\n",
      "n1 intersection n2 {1, 3, 5, 7, 9}\n",
      "n1 difference n2 {0, 2, 4, 6, 8}\n"
     ]
    }
   ],
   "source": [
    "print(\"Containers:sets\")\n",
    "num1={100,110,120}\n",
    "print(\"Set 'num1':\",num1)\n",
    "num1.add(90)\n",
    "print(\"num1 after inserting 90: \",num1)\n",
    "num1.update([50,60,70])\n",
    "print(\"num1 after inserting multiple numbers\",num1)\n",
    "num1.remove(60)\n",
    "print(\"num1 after removing number 60\",num1)\n",
    "print(\"Set comprehension and set operations:\")\n",
    "n1={x for x in range(10)}\n",
    "print(\"n1=\",n1)\n",
    "n2={x for x in range(10) if x%2!=0}\n",
    "print(\"n2=\",n2)\n",
    "print(\"n1 union n2\",n1|n2)\n",
    "print(\"n1 intersection n2\",n1&n2)\n",
    "print(\"n1 difference n2\",n1-n2)"
   ]
  },
  {
   "cell_type": "code",
   "execution_count": 7,
   "id": "f19c2047",
   "metadata": {},
   "outputs": [
    {
     "name": "stdout",
     "output_type": "stream",
     "text": [
      "Containers:Tuples\n",
      "Dictionary with tuple keys:\n",
      "(0, 1) : 0\n",
      "(1, 2) : 1\n",
      "(2, 3) : 2\n",
      "(3, 4) : 3\n",
      "(4, 5) : 4\n",
      "(5, 6) : 5\n",
      "(6, 7) : 6\n",
      "(7, 8) : 7\n",
      "(8, 9) : 8\n",
      "(9, 10) : 9\n",
      "Tuple t: (5, 6)\n",
      "5\n",
      "1\n"
     ]
    }
   ],
   "source": [
    "print(\"Containers:Tuples\")\n",
    "d={(x,x+1): x for x in range(10)}\n",
    "print(\"Dictionary with tuple keys:\")\n",
    "for k,v in d.items():\n",
    "    print(k,\":\",v)\n",
    "t=(5,6)\n",
    "print(\"Tuple t:\",t)\n",
    "print(d[t])\n",
    "print(d[1,2])"
   ]
  },
  {
   "cell_type": "code",
   "execution_count": null,
   "id": "c31d7430",
   "metadata": {},
   "outputs": [
    {
     "name": "stdout",
     "output_type": "stream",
     "text": [
      "Demo of function: Program to find factorial of a number\n"
     ]
    }
   ],
   "source": [
    "print(\"Demo of function: Program to find factorial of a number\")\n",
    "def fact(n):\n",
    "    if n==1:\n",
    "        return 1\n",
    "    else:\n",
    "        return( n *fact(n-1))\n",
    "n=int(input(\"Enter the number:\"))\n",
    "print(\"Factorial:\",fact(n))"
   ]
  },
  {
   "cell_type": "code",
   "execution_count": null,
   "id": "1241eb6a",
   "metadata": {
    "scrolled": true
   },
   "outputs": [],
   "source": [
    "class Greeter:\n",
    "    def __init__(self,name):\n",
    "        self.name=name\n",
    "    def greet(self,loud=False):\n",
    "        if loud:\n",
    "            print(\"Hello,%s!\"%self.name.upper())\n",
    "        else:\n",
    "            print('Hello,%s'%self.name)\n",
    "g=Greeter('Fred')\n",
    "g.greet()\n",
    "g.greet(loud=True)"
   ]
  },
  {
   "cell_type": "code",
   "execution_count": null,
   "id": "dea3f45b",
   "metadata": {},
   "outputs": [],
   "source": []
  }
 ],
 "metadata": {
  "kernelspec": {
   "display_name": "Python 3 (ipykernel)",
   "language": "python",
   "name": "python3"
  },
  "language_info": {
   "codemirror_mode": {
    "name": "ipython",
    "version": 3
   },
   "file_extension": ".py",
   "mimetype": "text/x-python",
   "name": "python",
   "nbconvert_exporter": "python",
   "pygments_lexer": "ipython3",
   "version": "3.11.5"
  }
 },
 "nbformat": 4,
 "nbformat_minor": 5
}
